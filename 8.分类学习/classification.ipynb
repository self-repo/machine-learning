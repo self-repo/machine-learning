{
 "cells": [
  {
   "cell_type": "code",
   "execution_count": 23,
   "metadata": {},
   "outputs": [],
   "source": [
    "import tensorflow as tf\n",
    "from tensorflow.examples.tutorials.mnist import input_data"
   ]
  },
  {
   "cell_type": "code",
   "execution_count": 24,
   "metadata": {},
   "outputs": [
    {
     "name": "stdout",
     "output_type": "stream",
     "text": [
      "Extracting MNIST_data/train-images-idx3-ubyte.gz\n",
      "Extracting MNIST_data/train-labels-idx1-ubyte.gz\n",
      "Extracting MNIST_data/t10k-images-idx3-ubyte.gz\n",
      "Extracting MNIST_data/t10k-labels-idx1-ubyte.gz\n"
     ]
    }
   ],
   "source": [
    "mnist=input_data.read_data_sets('MNIST_data',one_hot=True)"
   ]
  },
  {
   "cell_type": "code",
   "execution_count": 25,
   "metadata": {},
   "outputs": [],
   "source": [
    "def add_layer(inputs,in_size,out_size,activation_function=None):\n",
    "    #Weights是一个矩阵，[行，列]为[in_size,out_size]\n",
    "    Weights=tf.Variable(tf.random_normal([in_size,out_size]))#正态分布\n",
    "    #初始值推荐不为0，所以加上0.1，一行，out_size列\n",
    "    biases=tf.Variable(tf.zeros([1,out_size])+0.1)\n",
    "    #Weights*x+b的初始化的值，也就是未激活的值\n",
    "    Wx_plus_b=tf.matmul(inputs,Weights)+biases\n",
    "    if activation_function is None:\n",
    "        #激活函数为None，也就是线性函数\n",
    "        outputs=Wx_plus_b\n",
    "    else:\n",
    "        outputs=activation_function(Wx_plus_b)\n",
    "    return outputs"
   ]
  },
  {
   "cell_type": "code",
   "execution_count": 26,
   "metadata": {},
   "outputs": [],
   "source": [
    "def compute_accuracy(v_xs,v_ys):\n",
    "    #全局变量\n",
    "    global prediction\n",
    "    #生成预测值，也就是概率，即每个数字的概率\n",
    "    y_pre=sess.run(prediction,feed_dict={xs:v_xs})\n",
    "    #对比预测的数据是否和真实值相等，对比位置是否相等，相等就对了\n",
    "    correct_prediction=tf.equal(tf.arg_max(y_pre,1),tf.arg_max(v_ys,1))\n",
    "    #计算多少个对，多少个错\n",
    "    #tf.cast(x,dtype)，将x数据转换为dtype类型\n",
    "    accuracy=tf.reduce_mean(tf.cast(correct_prediction,tf.float32))\n",
    "    result=sess.run(accuracy,feed_dict={xs:v_xs,ys:v_ys})\n",
    "    return result"
   ]
  },
  {
   "cell_type": "code",
   "execution_count": 27,
   "metadata": {},
   "outputs": [],
   "source": [
    "# define placeholder for inputs to networks\n",
    "# 不规定有多少个sample，但是每个sample大小为784（28*28）\n",
    "xs=tf.placeholder(tf.float32,[None,784])\n",
    "ys=tf.placeholder(tf.float32,[None,10])"
   ]
  },
  {
   "cell_type": "code",
   "execution_count": 28,
   "metadata": {},
   "outputs": [],
   "source": [
    "#add output layer\n",
    "prediction=add_layer(xs,784,10,activation_function=tf.nn.softmax)"
   ]
  },
  {
   "cell_type": "code",
   "execution_count": 33,
   "metadata": {},
   "outputs": [],
   "source": [
    "#the error between prediction and real data\n",
    "cross_entropy=tf.reduce_mean(-tf.reduce_sum(ys*tf.log(prediction),reduction_indices=[1]))\n",
    "train_step=tf.train.GradientDescentOptimizer(0.5).minimize(cross_entropy)"
   ]
  },
  {
   "cell_type": "code",
   "execution_count": 34,
   "metadata": {},
   "outputs": [],
   "source": [
    "init=tf.global_variables_initializer()"
   ]
  },
  {
   "cell_type": "code",
   "execution_count": 35,
   "metadata": {},
   "outputs": [
    {
     "name": "stdout",
     "output_type": "stream",
     "text": [
      "0.0954\n",
      "0.6492\n",
      "0.7318\n",
      "0.7826\n",
      "0.8089\n",
      "0.8233\n",
      "0.8326\n",
      "0.8389\n",
      "0.8481\n",
      "0.851\n",
      "0.8545\n",
      "0.8563\n",
      "0.8629\n",
      "0.8637\n",
      "0.8714\n",
      "0.8702\n",
      "0.8686\n",
      "0.8703\n",
      "0.877\n",
      "0.8781\n",
      "0.8787\n",
      "0.8816\n",
      "0.8792\n",
      "0.8827\n",
      "0.8862\n",
      "0.8869\n",
      "0.8849\n",
      "0.8827\n",
      "0.8861\n",
      "0.8887\n",
      "0.8887\n",
      "0.8882\n",
      "0.8902\n",
      "0.8905\n",
      "0.8856\n",
      "0.8871\n",
      "0.8904\n",
      "0.8871\n",
      "0.8882\n",
      "0.8871\n"
     ]
    }
   ],
   "source": [
    "with tf.Session() as sess:\n",
    "    sess.run(init)\n",
    "    for i in range(2000):\n",
    "        batch_xs,batch_ys=mnist.train.next_batch(100)\n",
    "        sess.run(train_step,feed_dict={xs:batch_xs,ys:batch_ys})\n",
    "\n",
    "        if i%50==0:\n",
    "            print(compute_accuracy(mnist.test.images,mnist.test.labels))"
   ]
  },
  {
   "cell_type": "code",
   "execution_count": null,
   "metadata": {},
   "outputs": [],
   "source": []
  }
 ],
 "metadata": {
  "kernelspec": {
   "display_name": "Python 3",
   "language": "python",
   "name": "python3"
  },
  "language_info": {
   "codemirror_mode": {
    "name": "ipython",
    "version": 3
   },
   "file_extension": ".py",
   "mimetype": "text/x-python",
   "name": "python",
   "nbconvert_exporter": "python",
   "pygments_lexer": "ipython3",
   "version": "3.6.3"
  }
 },
 "nbformat": 4,
 "nbformat_minor": 2
}
